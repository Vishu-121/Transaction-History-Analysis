{
  "nbformat": 4,
  "nbformat_minor": 0,
  "metadata": {
    "colab": {
      "name": "Transaction History Analysis.ipynb",
      "provenance": [],
      "collapsed_sections": [],
      "authorship_tag": "ABX9TyOOQM3J9K+eKfFNdlAy7Zhe",
      "include_colab_link": true
    },
    "kernelspec": {
      "name": "python3",
      "display_name": "Python 3"
    },
    "language_info": {
      "name": "python"
    }
  },
  "cells": [
    {
      "cell_type": "markdown",
      "metadata": {
        "id": "view-in-github",
        "colab_type": "text"
      },
      "source": [
        "<a href=\"https://colab.research.google.com/github/Vishu-121/Transaction-History-Analysis/blob/main/Transaction_History_Analysis.ipynb\" target=\"_parent\"><img src=\"https://colab.research.google.com/assets/colab-badge.svg\" alt=\"Open In Colab\"/></a>"
      ]
    },
    {
      "cell_type": "markdown",
      "source": [
        "Some major analysis performed on the transaction history of people(Around 10 lakh+) from Europe. By which government and other authorities can fetch the useful information."
      ],
      "metadata": {
        "id": "XXJAHS0Cc2Gm"
      }
    },
    {
      "cell_type": "code",
      "execution_count": null,
      "metadata": {
        "colab": {
          "base_uri": "https://localhost:8080/"
        },
        "id": "q_nLcs3LaE_r",
        "outputId": "c7c4a769-34a1-444d-f905-f5fe4450dc04"
      },
      "outputs": [
        {
          "output_type": "stream",
          "name": "stdout",
          "text": [
            "Mounted at /content/drive\n"
          ]
        }
      ],
      "source": [
        "#Importing drive-library from colab module\n",
        "from google.colab import drive\n",
        "drive.mount(\"/content/drive\")"
      ]
    },
    {
      "cell_type": "code",
      "source": [
        "#Importing Pandas library\n",
        "import pandas as pd\n",
        "df=pd.read_csv(\"/content/drive/MyDrive/Colab Notebooks/transaction_data.csv\")\n",
        "df"
      ],
      "metadata": {
        "colab": {
          "base_uri": "https://localhost:8080/",
          "height": 424
        },
        "id": "kzuMmvy7awWO",
        "outputId": "98877c71-45db-41e5-8062-723dff2826aa"
      },
      "execution_count": null,
      "outputs": [
        {
          "output_type": "execute_result",
          "data": {
            "text/plain": [
              "         UserId  TransactionId               TransactionTime  ItemCode  \\\n",
              "0        278166        6355745  Sat Feb 02 12:50:00 IST 2019    465549   \n",
              "1        337701        6283376  Wed Dec 26 09:06:00 IST 2018    482370   \n",
              "2        267099        6385599  Fri Feb 15 09:45:00 IST 2019    490728   \n",
              "3        380478        6044973  Fri Jun 22 07:14:00 IST 2018    459186   \n",
              "4            -1        6143225  Mon Sep 10 11:58:00 IST 2018   1733592   \n",
              "...         ...            ...                           ...       ...   \n",
              "1083813  313131        6040298  Mon Jun 18 09:18:00 IST 2018    437976   \n",
              "1083814  295743        6387117  Sat Feb 16 09:14:00 IST 2019    484113   \n",
              "1083815      -1        6361817  Tue Feb 05 05:26:00 IST 2019    497595   \n",
              "1083816  324765        5945500  Fri Mar 23 06:26:00 IST 2018    470883   \n",
              "1083817  351645        6118145  Tue Aug 21 08:21:00 IST 2018    471849   \n",
              "\n",
              "                           ItemDescription  NumberOfItemsPurchased  \\\n",
              "0         FAMILY ALBUM WHITE PICTURE FRAME                       6   \n",
              "1                    LONDON BUS COFFEE MUG                       3   \n",
              "2        SET 12 COLOUR PENCILS DOLLY GIRL                       72   \n",
              "3              UNION JACK FLAG LUGGAGE TAG                       3   \n",
              "4                      WASHROOM METAL SIGN                       3   \n",
              "...                                    ...                     ...   \n",
              "1083813   DENIM PATCH PURSE PINK BUTTERFLY                      30   \n",
              "1083814         RECYCLED ACAPULCO MAT PINK                       6   \n",
              "1083815               DOILY THANK YOU CARD                      15   \n",
              "1083816           REGENCY CAKESTAND 3 TIER                      48   \n",
              "1083817              HEART OF WICKER SMALL                       9   \n",
              "\n",
              "         CostPerItem         Country  \n",
              "0              11.73  United Kingdom  \n",
              "1               3.52  United Kingdom  \n",
              "2               0.90          France  \n",
              "3               1.73  United Kingdom  \n",
              "4               3.40  United Kingdom  \n",
              "...              ...             ...  \n",
              "1083813         2.28            EIRE  \n",
              "1083814        11.39  United Kingdom  \n",
              "1083815         1.15  United Kingdom  \n",
              "1083816        15.12  United Kingdom  \n",
              "1083817         2.28  United Kingdom  \n",
              "\n",
              "[1083818 rows x 8 columns]"
            ],
            "text/html": [
              "\n",
              "  <div id=\"df-b61e178e-d28c-4f7d-9278-5b4dc586c4e3\">\n",
              "    <div class=\"colab-df-container\">\n",
              "      <div>\n",
              "<style scoped>\n",
              "    .dataframe tbody tr th:only-of-type {\n",
              "        vertical-align: middle;\n",
              "    }\n",
              "\n",
              "    .dataframe tbody tr th {\n",
              "        vertical-align: top;\n",
              "    }\n",
              "\n",
              "    .dataframe thead th {\n",
              "        text-align: right;\n",
              "    }\n",
              "</style>\n",
              "<table border=\"1\" class=\"dataframe\">\n",
              "  <thead>\n",
              "    <tr style=\"text-align: right;\">\n",
              "      <th></th>\n",
              "      <th>UserId</th>\n",
              "      <th>TransactionId</th>\n",
              "      <th>TransactionTime</th>\n",
              "      <th>ItemCode</th>\n",
              "      <th>ItemDescription</th>\n",
              "      <th>NumberOfItemsPurchased</th>\n",
              "      <th>CostPerItem</th>\n",
              "      <th>Country</th>\n",
              "    </tr>\n",
              "  </thead>\n",
              "  <tbody>\n",
              "    <tr>\n",
              "      <th>0</th>\n",
              "      <td>278166</td>\n",
              "      <td>6355745</td>\n",
              "      <td>Sat Feb 02 12:50:00 IST 2019</td>\n",
              "      <td>465549</td>\n",
              "      <td>FAMILY ALBUM WHITE PICTURE FRAME</td>\n",
              "      <td>6</td>\n",
              "      <td>11.73</td>\n",
              "      <td>United Kingdom</td>\n",
              "    </tr>\n",
              "    <tr>\n",
              "      <th>1</th>\n",
              "      <td>337701</td>\n",
              "      <td>6283376</td>\n",
              "      <td>Wed Dec 26 09:06:00 IST 2018</td>\n",
              "      <td>482370</td>\n",
              "      <td>LONDON BUS COFFEE MUG</td>\n",
              "      <td>3</td>\n",
              "      <td>3.52</td>\n",
              "      <td>United Kingdom</td>\n",
              "    </tr>\n",
              "    <tr>\n",
              "      <th>2</th>\n",
              "      <td>267099</td>\n",
              "      <td>6385599</td>\n",
              "      <td>Fri Feb 15 09:45:00 IST 2019</td>\n",
              "      <td>490728</td>\n",
              "      <td>SET 12 COLOUR PENCILS DOLLY GIRL</td>\n",
              "      <td>72</td>\n",
              "      <td>0.90</td>\n",
              "      <td>France</td>\n",
              "    </tr>\n",
              "    <tr>\n",
              "      <th>3</th>\n",
              "      <td>380478</td>\n",
              "      <td>6044973</td>\n",
              "      <td>Fri Jun 22 07:14:00 IST 2018</td>\n",
              "      <td>459186</td>\n",
              "      <td>UNION JACK FLAG LUGGAGE TAG</td>\n",
              "      <td>3</td>\n",
              "      <td>1.73</td>\n",
              "      <td>United Kingdom</td>\n",
              "    </tr>\n",
              "    <tr>\n",
              "      <th>4</th>\n",
              "      <td>-1</td>\n",
              "      <td>6143225</td>\n",
              "      <td>Mon Sep 10 11:58:00 IST 2018</td>\n",
              "      <td>1733592</td>\n",
              "      <td>WASHROOM METAL SIGN</td>\n",
              "      <td>3</td>\n",
              "      <td>3.40</td>\n",
              "      <td>United Kingdom</td>\n",
              "    </tr>\n",
              "    <tr>\n",
              "      <th>...</th>\n",
              "      <td>...</td>\n",
              "      <td>...</td>\n",
              "      <td>...</td>\n",
              "      <td>...</td>\n",
              "      <td>...</td>\n",
              "      <td>...</td>\n",
              "      <td>...</td>\n",
              "      <td>...</td>\n",
              "    </tr>\n",
              "    <tr>\n",
              "      <th>1083813</th>\n",
              "      <td>313131</td>\n",
              "      <td>6040298</td>\n",
              "      <td>Mon Jun 18 09:18:00 IST 2018</td>\n",
              "      <td>437976</td>\n",
              "      <td>DENIM PATCH PURSE PINK BUTTERFLY</td>\n",
              "      <td>30</td>\n",
              "      <td>2.28</td>\n",
              "      <td>EIRE</td>\n",
              "    </tr>\n",
              "    <tr>\n",
              "      <th>1083814</th>\n",
              "      <td>295743</td>\n",
              "      <td>6387117</td>\n",
              "      <td>Sat Feb 16 09:14:00 IST 2019</td>\n",
              "      <td>484113</td>\n",
              "      <td>RECYCLED ACAPULCO MAT PINK</td>\n",
              "      <td>6</td>\n",
              "      <td>11.39</td>\n",
              "      <td>United Kingdom</td>\n",
              "    </tr>\n",
              "    <tr>\n",
              "      <th>1083815</th>\n",
              "      <td>-1</td>\n",
              "      <td>6361817</td>\n",
              "      <td>Tue Feb 05 05:26:00 IST 2019</td>\n",
              "      <td>497595</td>\n",
              "      <td>DOILY THANK YOU CARD</td>\n",
              "      <td>15</td>\n",
              "      <td>1.15</td>\n",
              "      <td>United Kingdom</td>\n",
              "    </tr>\n",
              "    <tr>\n",
              "      <th>1083816</th>\n",
              "      <td>324765</td>\n",
              "      <td>5945500</td>\n",
              "      <td>Fri Mar 23 06:26:00 IST 2018</td>\n",
              "      <td>470883</td>\n",
              "      <td>REGENCY CAKESTAND 3 TIER</td>\n",
              "      <td>48</td>\n",
              "      <td>15.12</td>\n",
              "      <td>United Kingdom</td>\n",
              "    </tr>\n",
              "    <tr>\n",
              "      <th>1083817</th>\n",
              "      <td>351645</td>\n",
              "      <td>6118145</td>\n",
              "      <td>Tue Aug 21 08:21:00 IST 2018</td>\n",
              "      <td>471849</td>\n",
              "      <td>HEART OF WICKER SMALL</td>\n",
              "      <td>9</td>\n",
              "      <td>2.28</td>\n",
              "      <td>United Kingdom</td>\n",
              "    </tr>\n",
              "  </tbody>\n",
              "</table>\n",
              "<p>1083818 rows × 8 columns</p>\n",
              "</div>\n",
              "      <button class=\"colab-df-convert\" onclick=\"convertToInteractive('df-b61e178e-d28c-4f7d-9278-5b4dc586c4e3')\"\n",
              "              title=\"Convert this dataframe to an interactive table.\"\n",
              "              style=\"display:none;\">\n",
              "        \n",
              "  <svg xmlns=\"http://www.w3.org/2000/svg\" height=\"24px\"viewBox=\"0 0 24 24\"\n",
              "       width=\"24px\">\n",
              "    <path d=\"M0 0h24v24H0V0z\" fill=\"none\"/>\n",
              "    <path d=\"M18.56 5.44l.94 2.06.94-2.06 2.06-.94-2.06-.94-.94-2.06-.94 2.06-2.06.94zm-11 1L8.5 8.5l.94-2.06 2.06-.94-2.06-.94L8.5 2.5l-.94 2.06-2.06.94zm10 10l.94 2.06.94-2.06 2.06-.94-2.06-.94-.94-2.06-.94 2.06-2.06.94z\"/><path d=\"M17.41 7.96l-1.37-1.37c-.4-.4-.92-.59-1.43-.59-.52 0-1.04.2-1.43.59L10.3 9.45l-7.72 7.72c-.78.78-.78 2.05 0 2.83L4 21.41c.39.39.9.59 1.41.59.51 0 1.02-.2 1.41-.59l7.78-7.78 2.81-2.81c.8-.78.8-2.07 0-2.86zM5.41 20L4 18.59l7.72-7.72 1.47 1.35L5.41 20z\"/>\n",
              "  </svg>\n",
              "      </button>\n",
              "      \n",
              "  <style>\n",
              "    .colab-df-container {\n",
              "      display:flex;\n",
              "      flex-wrap:wrap;\n",
              "      gap: 12px;\n",
              "    }\n",
              "\n",
              "    .colab-df-convert {\n",
              "      background-color: #E8F0FE;\n",
              "      border: none;\n",
              "      border-radius: 50%;\n",
              "      cursor: pointer;\n",
              "      display: none;\n",
              "      fill: #1967D2;\n",
              "      height: 32px;\n",
              "      padding: 0 0 0 0;\n",
              "      width: 32px;\n",
              "    }\n",
              "\n",
              "    .colab-df-convert:hover {\n",
              "      background-color: #E2EBFA;\n",
              "      box-shadow: 0px 1px 2px rgba(60, 64, 67, 0.3), 0px 1px 3px 1px rgba(60, 64, 67, 0.15);\n",
              "      fill: #174EA6;\n",
              "    }\n",
              "\n",
              "    [theme=dark] .colab-df-convert {\n",
              "      background-color: #3B4455;\n",
              "      fill: #D2E3FC;\n",
              "    }\n",
              "\n",
              "    [theme=dark] .colab-df-convert:hover {\n",
              "      background-color: #434B5C;\n",
              "      box-shadow: 0px 1px 3px 1px rgba(0, 0, 0, 0.15);\n",
              "      filter: drop-shadow(0px 1px 2px rgba(0, 0, 0, 0.3));\n",
              "      fill: #FFFFFF;\n",
              "    }\n",
              "  </style>\n",
              "\n",
              "      <script>\n",
              "        const buttonEl =\n",
              "          document.querySelector('#df-b61e178e-d28c-4f7d-9278-5b4dc586c4e3 button.colab-df-convert');\n",
              "        buttonEl.style.display =\n",
              "          google.colab.kernel.accessAllowed ? 'block' : 'none';\n",
              "\n",
              "        async function convertToInteractive(key) {\n",
              "          const element = document.querySelector('#df-b61e178e-d28c-4f7d-9278-5b4dc586c4e3');\n",
              "          const dataTable =\n",
              "            await google.colab.kernel.invokeFunction('convertToInteractive',\n",
              "                                                     [key], {});\n",
              "          if (!dataTable) return;\n",
              "\n",
              "          const docLinkHtml = 'Like what you see? Visit the ' +\n",
              "            '<a target=\"_blank\" href=https://colab.research.google.com/notebooks/data_table.ipynb>data table notebook</a>'\n",
              "            + ' to learn more about interactive tables.';\n",
              "          element.innerHTML = '';\n",
              "          dataTable['output_type'] = 'display_data';\n",
              "          await google.colab.output.renderOutput(dataTable, element);\n",
              "          const docLink = document.createElement('div');\n",
              "          docLink.innerHTML = docLinkHtml;\n",
              "          element.appendChild(docLink);\n",
              "        }\n",
              "      </script>\n",
              "    </div>\n",
              "  </div>\n",
              "  "
            ]
          },
          "metadata": {},
          "execution_count": 2
        }
      ]
    },
    {
      "cell_type": "markdown",
      "source": [
        "Q1. Which user spends maximum amount on buying?"
      ],
      "metadata": {
        "id": "UFVbRNTjdfa1"
      }
    },
    {
      "cell_type": "code",
      "source": [
        "#Groupby the UserId column with the mean of CostPerItem column\n",
        "df.groupby(\"UserId\").mean()[\"CostPerItem\"].sort_values(ascending = False).head(10).plot(kind=\"bar\",figsize=(10,5))"
      ],
      "metadata": {
        "colab": {
          "base_uri": "https://localhost:8080/",
          "height": 391
        },
        "id": "LSTxKKYvbbNU",
        "outputId": "d23f2a1d-e2a1-404d-d94f-2210c45f406d"
      },
      "execution_count": null,
      "outputs": [
        {
          "output_type": "execute_result",
          "data": {
            "text/plain": [
              "<matplotlib.axes._subplots.AxesSubplot at 0x7f3caf03df50>"
            ]
          },
          "metadata": {},
          "execution_count": 41
        },
        {
          "output_type": "display_data",
          "data": {
            "text/plain": [
              "<Figure size 720x360 with 1 Axes>"
            ],
            "image/png": "[encoded data removed]"
          },
          "metadata": {
            "needs_background": "light"
          }
        }
      ]
    },
    {
      "cell_type": "markdown",
      "source": [
        "Q2. In USA which Item sells most?"
      ],
      "metadata": {
        "id": "3k2uBwApdx5-"
      }
    },
    {
      "cell_type": "code",
      "source": [
        "#Filter the dataframe by choosing only those rows which have Country United Kingdom\n",
        "#Groupby the Itemcode column with the mean of CostPerItem column\n",
        "df_uk=df[df[\"Country\"]==\"United Kingdom\"]\n",
        "df_uk.groupby(\"ItemCode\").mean()[\"CostPerItem\"].sort_values(ascending=False).head(5).plot(kind=\"bar\", figsize=(6,5))"
      ],
      "metadata": {
        "id": "pHYHYfXXdAXq",
        "colab": {
          "base_uri": "https://localhost:8080/",
          "height": 383
        },
        "outputId": "15415a10-0424-4e55-90e4-d9dc9d5d70de"
      },
      "execution_count": null,
      "outputs": [
        {
          "output_type": "execute_result",
          "data": {
            "text/plain": [
              "<matplotlib.axes._subplots.AxesSubplot at 0x7f3cafff0490>"
            ]
          },
          "metadata": {},
          "execution_count": 4
        },
        {
          "output_type": "display_data",
          "data": {
            "text/plain": [
              "<Figure size 432x360 with 1 Axes>"
            ],
            "image/png": "[encoded data removed]"
          },
          "metadata": {
            "needs_background": "light"
          }
        }
      ]
    },
    {
      "cell_type": "markdown",
      "source": [
        "Q3. What are the most purchased items?"
      ],
      "metadata": {
        "id": "jo740KVGeFyX"
      }
    },
    {
      "cell_type": "code",
      "source": [
        "#Groupby the Itemcode column with the count of UserId column\n",
        "df.groupby(\"ItemCode\").count()[\"UserId\"].sort_values(ascending=False).head(5).plot(kind=\"bar\", figsize=(6,5))"
      ],
      "metadata": {
        "id": "iM4WmbgKeWBI",
        "colab": {
          "base_uri": "https://localhost:8080/",
          "height": 386
        },
        "outputId": "264412ee-53d6-4d7e-b25f-427687248518"
      },
      "execution_count": null,
      "outputs": [
        {
          "output_type": "execute_result",
          "data": {
            "text/plain": [
              "<matplotlib.axes._subplots.AxesSubplot at 0x7f3caf6ab290>"
            ]
          },
          "metadata": {},
          "execution_count": 18
        },
        {
          "output_type": "display_data",
          "data": {
            "text/plain": [
              "<Figure size 432x360 with 1 Axes>"
            ],
            "image/png": "[encoded data removed]"
          },
          "metadata": {
            "needs_background": "light"
          }
        }
      ]
    },
    {
      "cell_type": "markdown",
      "source": [
        "Q4. Which user buys most of the items from which city?"
      ],
      "metadata": {
        "id": "4rdNtDzXeWnp"
      }
    },
    {
      "cell_type": "code",
      "source": [
        "#Groupby the UserId column with the count of country column\n",
        "df.groupby(\"UserId\").count()[\"Country\"].sort_values(ascending=False).head().plot(kind=\"bar\", figsize=(6,5))"
      ],
      "metadata": {
        "id": "LbT7HAJ1efgG",
        "colab": {
          "base_uri": "https://localhost:8080/",
          "height": 380
        },
        "outputId": "3c5a495a-dbfc-4690-db81-e7ac9fcf308f"
      },
      "execution_count": null,
      "outputs": [
        {
          "output_type": "execute_result",
          "data": {
            "text/plain": [
              "<matplotlib.axes._subplots.AxesSubplot at 0x7f3caf2e6950>"
            ]
          },
          "metadata": {},
          "execution_count": 31
        },
        {
          "output_type": "display_data",
          "data": {
            "text/plain": [
              "<Figure size 432x360 with 1 Axes>"
            ],
            "image/png": "[encoded data removed]"
          },
          "metadata": {
            "needs_background": "light"
          }
        }
      ]
    },
    {
      "cell_type": "markdown",
      "source": [
        "Q5. At which country, cost per item is more?"
      ],
      "metadata": {
        "id": "hJSOY38CegCm"
      }
    },
    {
      "cell_type": "code",
      "source": [
        "#Groupby the Country column with the count of CostPerItem column\n",
        "df.groupby(\"Country\").count()[\"CostPerItem\"].sort_values(ascending=False).head().plot(kind=\"bar\", figsize=(6,5))"
      ],
      "metadata": {
        "id": "PehnFLG3AdNq",
        "colab": {
          "base_uri": "https://localhost:8080/",
          "height": 433
        },
        "outputId": "91eeba24-728e-4aac-9e6e-dbf8d56a9418"
      },
      "execution_count": null,
      "outputs": [
        {
          "output_type": "execute_result",
          "data": {
            "text/plain": [
              "<matplotlib.axes._subplots.AxesSubplot at 0x7f3caf1bc9d0>"
            ]
          },
          "metadata": {},
          "execution_count": 34
        },
        {
          "output_type": "display_data",
          "data": {
            "text/plain": [
              "<Figure size 432x360 with 1 Axes>"
            ],
            "image/png": "[encoded data removed]"
          },
          "metadata": {
            "needs_background": "light"
          }
        }
      ]
    },
    {
      "cell_type": "markdown",
      "source": [
        "Q6. Which country people bought the most?"
      ],
      "metadata": {
        "id": "QJeVV8dNAkDz"
      }
    },
    {
      "cell_type": "code",
      "source": [
        "#Groupby the Country column with the count of UserId column\n",
        "df.groupby(\"Country\").count()[\"UserId\"].sort_values(ascending=False).head().plot(kind=\"bar\", figsize=(6,5))"
      ],
      "metadata": {
        "id": "uraMBJnFAsB1",
        "colab": {
          "base_uri": "https://localhost:8080/",
          "height": 433
        },
        "outputId": "c4283c11-51ad-4b7b-e47e-f897adb31e8b"
      },
      "execution_count": null,
      "outputs": [
        {
          "output_type": "execute_result",
          "data": {
            "text/plain": [
              "<matplotlib.axes._subplots.AxesSubplot at 0x7f3caf356250>"
            ]
          },
          "metadata": {},
          "execution_count": 38
        },
        {
          "output_type": "display_data",
          "data": {
            "text/plain": [
              "<Figure size 432x360 with 1 Axes>"
            ],
            "image/png": "[encoded data removed]"
          },
          "metadata": {
            "needs_background": "light"
          }
        }
      ]
    },
    {
      "cell_type": "markdown",
      "source": [
        "Q7. At which country, average cost per item is more?"
      ],
      "metadata": {
        "id": "WfFa8-EtfZ3L"
      }
    },
    {
      "cell_type": "code",
      "source": [
        "#Groupby the Country column with the mean of CostPerItem column\n",
        "df.groupby(\"Country\").mean()[\"CostPerItem\"].sort_values(ascending=False).head().plot(kind=\"bar\", figsize=(6,5))"
      ],
      "metadata": {
        "colab": {
          "base_uri": "https://localhost:8080/",
          "height": 422
        },
        "id": "SnHbAQu8bR6K",
        "outputId": "61ca042b-f168-4195-c647-dbca4a0ac904"
      },
      "execution_count": null,
      "outputs": [
        {
          "output_type": "execute_result",
          "data": {
            "text/plain": [
              "<matplotlib.axes._subplots.AxesSubplot at 0x7f3caf1bcc10>"
            ]
          },
          "metadata": {},
          "execution_count": 35
        },
        {
          "output_type": "display_data",
          "data": {
            "text/plain": [
              "<Figure size 432x360 with 1 Axes>"
            ],
            "image/png": "[encoded data removed]"
          },
          "metadata": {
            "needs_background": "light"
          }
        }
      ]
    }
  ]
}